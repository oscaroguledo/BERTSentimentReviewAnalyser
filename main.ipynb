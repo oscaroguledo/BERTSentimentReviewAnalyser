{
 "cells": [
  {
   "cell_type": "code",
   "execution_count": 5,
   "metadata": {},
   "outputs": [],
   "source": [
    "# Import the Analyser class from the analyser module\n",
    "from analyser import Analyser\n"
   ]
  },
  {
   "cell_type": "code",
   "execution_count": 6,
   "metadata": {},
   "outputs": [],
   "source": [
    "\n",
    "# Initialize the analyzer with the trained sentiment model (sentimentreivewmodel.h5)\n",
    "analyzer = Analyser(\"sentimentreivewmodel.h5\")"
   ]
  },
  {
   "cell_type": "code",
   "execution_count": 12,
   "metadata": {},
   "outputs": [
    {
     "name": "stdout",
     "output_type": "stream",
     "text": [
      "Sentiment: 2\n"
     ]
    }
   ],
   "source": [
    "\n",
    "# Define a sentence to analyze\n",
    "sentence = 'very very very ok'\n",
    "\n",
    "# Use the analyzer to calculate the sentiment of the sentence\n",
    "sentiment = analyzer.calculatesentiment(sentence)\n",
    "\n",
    "# Output the result (the sentiment score ranging from 1 to 5)\n",
    "print(f\"Sentiment: {sentiment}\")"
   ]
  }
 ],
 "metadata": {
  "kernelspec": {
   "display_name": "venv",
   "language": "python",
   "name": "python3"
  },
  "language_info": {
   "codemirror_mode": {
    "name": "ipython",
    "version": 3
   },
   "file_extension": ".py",
   "mimetype": "text/x-python",
   "name": "python",
   "nbconvert_exporter": "python",
   "pygments_lexer": "ipython3",
   "version": "3.12.7"
  }
 },
 "nbformat": 4,
 "nbformat_minor": 2
}
